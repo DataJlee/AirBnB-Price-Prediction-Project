{
 "cells": [
  {
   "cell_type": "code",
   "execution_count": 2,
   "metadata": {},
   "outputs": [],
   "source": [
    "import pandas as pd\n",
    "import matplotlib.pyplot as plt\n",
    "import seaborn as sns"
   ]
  },
  {
   "cell_type": "code",
   "execution_count": 3,
   "metadata": {},
   "outputs": [],
   "source": [
    "abb = pd.read_csv('airbnb_cleaned.csv')"
   ]
  },
  {
   "cell_type": "code",
   "execution_count": 4,
   "metadata": {},
   "outputs": [
    {
     "data": {
      "text/html": [
       "<div>\n",
       "<style scoped>\n",
       "    .dataframe tbody tr th:only-of-type {\n",
       "        vertical-align: middle;\n",
       "    }\n",
       "\n",
       "    .dataframe tbody tr th {\n",
       "        vertical-align: top;\n",
       "    }\n",
       "\n",
       "    .dataframe thead th {\n",
       "        text-align: right;\n",
       "    }\n",
       "</style>\n",
       "<table border=\"1\" class=\"dataframe\">\n",
       "  <thead>\n",
       "    <tr style=\"text-align: right;\">\n",
       "      <th></th>\n",
       "      <th>Unnamed: 0</th>\n",
       "      <th>id</th>\n",
       "      <th>name</th>\n",
       "      <th>host_id</th>\n",
       "      <th>host_name</th>\n",
       "      <th>neighbourhood_group</th>\n",
       "      <th>neighbourhood</th>\n",
       "      <th>latitude</th>\n",
       "      <th>longitude</th>\n",
       "      <th>room_type</th>\n",
       "      <th>price</th>\n",
       "      <th>minimum_nights</th>\n",
       "      <th>number_of_reviews</th>\n",
       "      <th>last_review</th>\n",
       "      <th>reviews_per_month</th>\n",
       "      <th>calculated_host_listings_count</th>\n",
       "      <th>availability_365</th>\n",
       "      <th>city</th>\n",
       "    </tr>\n",
       "  </thead>\n",
       "  <tbody>\n",
       "    <tr>\n",
       "      <th>0</th>\n",
       "      <td>48150</td>\n",
       "      <td>5065</td>\n",
       "      <td>MAUKA BB</td>\n",
       "      <td>7257</td>\n",
       "      <td>Wayne</td>\n",
       "      <td>Hawaii</td>\n",
       "      <td>Hamakua</td>\n",
       "      <td>20.04095</td>\n",
       "      <td>-155.43251</td>\n",
       "      <td>Entire home/apt</td>\n",
       "      <td>85</td>\n",
       "      <td>2</td>\n",
       "      <td>42</td>\n",
       "      <td>22/03/20</td>\n",
       "      <td>0.45</td>\n",
       "      <td>2</td>\n",
       "      <td>365</td>\n",
       "      <td>Hawaii</td>\n",
       "    </tr>\n",
       "    <tr>\n",
       "      <th>1</th>\n",
       "      <td>48152</td>\n",
       "      <td>5387</td>\n",
       "      <td>Hale Koa Studio &amp; 1 Bedroom Units!!</td>\n",
       "      <td>7878</td>\n",
       "      <td>Edward</td>\n",
       "      <td>Hawaii</td>\n",
       "      <td>South Kona</td>\n",
       "      <td>19.43119</td>\n",
       "      <td>-155.88079</td>\n",
       "      <td>Entire home/apt</td>\n",
       "      <td>85</td>\n",
       "      <td>5</td>\n",
       "      <td>168</td>\n",
       "      <td>18/03/20</td>\n",
       "      <td>1.30</td>\n",
       "      <td>3</td>\n",
       "      <td>242</td>\n",
       "      <td>Hawaii</td>\n",
       "    </tr>\n",
       "    <tr>\n",
       "      <th>2</th>\n",
       "      <td>48153</td>\n",
       "      <td>5389</td>\n",
       "      <td>Keauhou Villa</td>\n",
       "      <td>7878</td>\n",
       "      <td>Edward</td>\n",
       "      <td>Hawaii</td>\n",
       "      <td>North Kona</td>\n",
       "      <td>19.56413</td>\n",
       "      <td>-155.96347</td>\n",
       "      <td>Entire home/apt</td>\n",
       "      <td>239</td>\n",
       "      <td>6</td>\n",
       "      <td>20</td>\n",
       "      <td>22/03/20</td>\n",
       "      <td>0.24</td>\n",
       "      <td>3</td>\n",
       "      <td>287</td>\n",
       "      <td>Hawaii</td>\n",
       "    </tr>\n",
       "    <tr>\n",
       "      <th>3</th>\n",
       "      <td>48154</td>\n",
       "      <td>5390</td>\n",
       "      <td>STAY AT PRINCE KUHIO!</td>\n",
       "      <td>7887</td>\n",
       "      <td>Todd</td>\n",
       "      <td>Kauai</td>\n",
       "      <td>Koloa-Poipu</td>\n",
       "      <td>21.88305</td>\n",
       "      <td>-159.47372</td>\n",
       "      <td>Entire home/apt</td>\n",
       "      <td>92</td>\n",
       "      <td>3</td>\n",
       "      <td>143</td>\n",
       "      <td>10/08/20</td>\n",
       "      <td>1.03</td>\n",
       "      <td>1</td>\n",
       "      <td>116</td>\n",
       "      <td>Hawaii</td>\n",
       "    </tr>\n",
       "    <tr>\n",
       "      <th>4</th>\n",
       "      <td>48155</td>\n",
       "      <td>5434</td>\n",
       "      <td>Kauai  Ocean View 3 Story Tiki Tower Princeville</td>\n",
       "      <td>7984</td>\n",
       "      <td>Ahlea</td>\n",
       "      <td>Kauai</td>\n",
       "      <td>North Shore Kauai</td>\n",
       "      <td>22.21972</td>\n",
       "      <td>-159.46958</td>\n",
       "      <td>Entire home/apt</td>\n",
       "      <td>175</td>\n",
       "      <td>2</td>\n",
       "      <td>107</td>\n",
       "      <td>16/03/20</td>\n",
       "      <td>0.80</td>\n",
       "      <td>2</td>\n",
       "      <td>302</td>\n",
       "      <td>Hawaii</td>\n",
       "    </tr>\n",
       "  </tbody>\n",
       "</table>\n",
       "</div>"
      ],
      "text/plain": [
       "   Unnamed: 0    id                                              name  \\\n",
       "0       48150  5065                                          MAUKA BB   \n",
       "1       48152  5387               Hale Koa Studio & 1 Bedroom Units!!   \n",
       "2       48153  5389                                     Keauhou Villa   \n",
       "3       48154  5390                             STAY AT PRINCE KUHIO!   \n",
       "4       48155  5434  Kauai  Ocean View 3 Story Tiki Tower Princeville   \n",
       "\n",
       "   host_id host_name neighbourhood_group      neighbourhood  latitude  \\\n",
       "0     7257     Wayne              Hawaii            Hamakua  20.04095   \n",
       "1     7878    Edward              Hawaii         South Kona  19.43119   \n",
       "2     7878    Edward              Hawaii         North Kona  19.56413   \n",
       "3     7887      Todd               Kauai        Koloa-Poipu  21.88305   \n",
       "4     7984     Ahlea               Kauai  North Shore Kauai  22.21972   \n",
       "\n",
       "   longitude        room_type  price  minimum_nights  number_of_reviews  \\\n",
       "0 -155.43251  Entire home/apt     85               2                 42   \n",
       "1 -155.88079  Entire home/apt     85               5                168   \n",
       "2 -155.96347  Entire home/apt    239               6                 20   \n",
       "3 -159.47372  Entire home/apt     92               3                143   \n",
       "4 -159.46958  Entire home/apt    175               2                107   \n",
       "\n",
       "  last_review  reviews_per_month  calculated_host_listings_count  \\\n",
       "0    22/03/20               0.45                               2   \n",
       "1    18/03/20               1.30                               3   \n",
       "2    22/03/20               0.24                               3   \n",
       "3    10/08/20               1.03                               1   \n",
       "4    16/03/20               0.80                               2   \n",
       "\n",
       "   availability_365    city  \n",
       "0               365  Hawaii  \n",
       "1               242  Hawaii  \n",
       "2               287  Hawaii  \n",
       "3               116  Hawaii  \n",
       "4               302  Hawaii  "
      ]
     },
     "execution_count": 4,
     "metadata": {},
     "output_type": "execute_result"
    }
   ],
   "source": [
    "abb.head()"
   ]
  },
  {
   "cell_type": "code",
   "execution_count": 12,
   "metadata": {},
   "outputs": [
    {
     "data": {
      "text/plain": [
       "Text(0.5, 1.0, 'Normalized data')"
      ]
     },
     "execution_count": 12,
     "metadata": {},
     "output_type": "execute_result"
    },
    {
     "data": {
      "image/png": "[encoded data removed]",
      "text/plain": [
       "<Figure size 1080x216 with 2 Axes>"
      ]
     },
     "metadata": {
      "needs_background": "light"
     },
     "output_type": "display_data"
    }
   ],
   "source": [
    "\n",
    "# modules we'll use\n",
    "import pandas as pd\n",
    "import numpy as np\n",
    "\n",
    "# for Box-Cox Transformation\n",
    "from scipy import stats\n",
    "\n",
    "# for min_max scaling\n",
    "from mlxtend.preprocessing import minmax_scaling\n",
    "\n",
    "# plotting modules\n",
    "import seaborn as sns\n",
    "import matplotlib.pyplot as plt\n",
    "\n",
    "# get the index of all positive pledges (Box-Cox only takes positive values)\n",
    "index_of_minimum_nights = abb.minimum_nights > 0\n",
    "\n",
    "# get only positive pledges (using their indexes)\n",
    "positive_nights = abb.minimum_nights.loc[index_of_minimum_nights]\n",
    "\n",
    "# normalize the pledges (w/ Box-Cox)\n",
    "normalized_nights = pd.Series(stats.boxcox(positive_nights)[0], \n",
    "                               name='minimum_nights', index=positive_nights.index)\n",
    "\n",
    "# plot both together to compare\n",
    "fig, ax=plt.subplots(1,2,figsize=(15,3))\n",
    "sns.distplot(positive_nights, ax=ax[0])\n",
    "ax[0].set_title(\"Original Data\")\n",
    "sns.distplot(normalized_nights, ax=ax[1])\n",
    "ax[1].set_title(\"Normalized data\")"
   ]
  },
  {
   "cell_type": "code",
   "execution_count": 13,
   "metadata": {},
   "outputs": [
    {
     "data": {
      "text/plain": [
       "Text(0.5, 1.0, 'Normalized data')"
      ]
     },
     "execution_count": 13,
     "metadata": {},
     "output_type": "execute_result"
    },
    {
     "data": {
      "image/png": "[encoded data removed]",
      "text/plain": [
       "<Figure size 1080x216 with 2 Axes>"
      ]
     },
     "metadata": {
      "needs_background": "light"
     },
     "output_type": "display_data"
    }
   ],
   "source": [
    "# get the index of all positive pledges (Box-Cox only takes positive values)\n",
    "index_of_number_reviews = abb.number_of_reviews > 0\n",
    "\n",
    "# get only positive pledges (using their indexes)\n",
    "positive_number_reviews = abb.number_of_reviews.loc[index_of_number_reviews]\n",
    "\n",
    "# normalize the pledges (w/ Box-Cox)\n",
    "normalized_number_reviews = pd.Series(stats.boxcox(positive_number_reviews)[0], \n",
    "                               name='minimum_number_reviews', index=positive_number_reviews.index)\n",
    "\n",
    "# plot both together to compare\n",
    "fig, ax=plt.subplots(1,2,figsize=(15,3))\n",
    "sns.distplot(positive_number_reviews, ax=ax[0])\n",
    "ax[0].set_title(\"Original Data\")\n",
    "sns.distplot(normalized_number_reviews, ax=ax[1])\n",
    "ax[1].set_title(\"Normalized data\")"
   ]
  },
  {
   "cell_type": "code",
   "execution_count": null,
   "metadata": {},
   "outputs": [],
   "source": []
  }
 ],
 "metadata": {
  "kernelspec": {
   "display_name": "Python 3",
   "language": "python",
   "name": "python3"
  },
  "language_info": {
   "codemirror_mode": {
    "name": "ipython",
    "version": 3
   },
   "file_extension": ".py",
   "mimetype": "text/x-python",
   "name": "python",
   "nbconvert_exporter": "python",
   "pygments_lexer": "ipython3",
   "version": "3.7.6"
  }
 },
 "nbformat": 4,
 "nbformat_minor": 4
}
